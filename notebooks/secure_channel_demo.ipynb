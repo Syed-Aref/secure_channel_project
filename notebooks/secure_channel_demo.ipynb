{
 "cells": [
  {
   "cell_type": "code",
   "execution_count": 1,
   "id": "59949ae9-c337-4a5e-8742-701525b3f811",
   "metadata": {},
   "outputs": [],
   "source": [
    "import sys\n",
    "sys.path.append('../modules')"
   ]
  },
  {
   "cell_type": "code",
   "execution_count": 2,
   "id": "2c787bfa-c3af-4a4a-9be7-108062ee1a8f",
   "metadata": {},
   "outputs": [
    {
     "name": "stdout",
     "output_type": "stream",
     "text": [
      "Encrypted message: b'cf\\x06\\x05\\x94\\xb5\\x05|\\x14\\x81\\x93\\xdf\\x98\\xa0H\\x92\\xfbG\\x89\\xe1#_W,\\xb6\\xe9\\x8e\\x06\\xe9]\\xbe\\xf1\\xd0\\x15\\xf16\\x11\\x81\\x14\\xae+\\xee\\x1fR\\xeaFD;\\xd8\\xd6\\xff\"\\xee?\\xdb\\xce\\xa3\\xc8g\\xb9\\xf2\\xa0X\\xc2\\xee\\x9f\\xf9\\xa0urL\\xc4\\xb6~^\\xfb\\xe3WY\\xf7\\xe1m\\x81\\xaf\\xf6#\\xb8\\xff\\x16\\xfb1\\xef\\xba\\x02\\x9e8\\xeaor\\x93\\x8f\\xcc\\xe8\\x7f1=\\xbc\\xb3;\\xd6y\\xaf\\xf8\\xad\\xa5\\x13\\xb3H\\xff\\x9f\\'\\xfeD\\x9e\\x12\\xaad&\\xbeC\\x0b~\\x9d\\xc4B\\xe7\\xad\\xc0\\x97\\xfa^\\xe4r\\xff\\xd2\\x81\\x8e\\xe3\\xe9\\xcb\\xfb\\xb0e\\xfd\\xaa;\\n>\\t\\n\\x07B\\xefx\\xb6\\xe8s\\xe6\\xec\\xbf\\xe5\\xab\\x0ed\\x93\\x91\\xfb\\x9b\\x1f\\x18\\'%\\xe7JG\\x057\\x8c\\xeeo\\xb5#\\xd5\\xcd\\x137G\\xe6\\x11\\x0c\\x99\\xbd\\x04`O\\x05\\x1b/Z\\xfeV\\x11\\xb2\\xe2\\x95hGG3z\\xd8\\xd5\\xf14\\x96J\\xd3\\xe2\\xeeiH\\x95\"H\\x87\\x958\\x0f\\xa8\\xd4\\xca\\x96\\xb4\\xb0<\\x00gIE8\\xf8\\xc6\\xa4\\x81\\xfc:'\n",
      "Decrypted Message: This is a confidential message.\n",
      "MAC valid? True\n"
     ]
    }
   ],
   "source": [
    "### Scenario 1: Authenticated Encryption (Authenticate using SHA-256, then encrypt using RSA) ###\n",
    "from rsa_utils import generate_keypair, rsa_encrypt, rsa_decrypt\n",
    "from mac_utils import generate_mac, verify_mac\n",
    "\n",
    "# === Setup ===\n",
    "# RSA key pair (K2)\n",
    "private_key, public_key = generate_keypair(2048)\n",
    "\n",
    "# Shared MAC key (K1)\n",
    "mac_key = b'shared_secret_k1'\n",
    "\n",
    "# Shared delimiter (must not appear in message)\n",
    "DELIMITER = '||--DELIM--||'\n",
    "\n",
    "# === Sender Side ===\n",
    "message = \"This is a confidential message.\"\n",
    "\n",
    "# 1. Generate MAC\n",
    "mac = generate_mac(message.encode(), mac_key)\n",
    "\n",
    "# 2. Append MAC using delimiter\n",
    "combined = message + DELIMITER + mac.hex()\n",
    "\n",
    "# 3. Encrypt entire string using RSA\n",
    "ciphertext = rsa_encrypt(combined, public_key)\n",
    "print(\"Encrypted message:\", ciphertext)\n",
    "\n",
    "# === Receiver Side ===\n",
    "# 4. Decrypt\n",
    "decrypted_combined = rsa_decrypt(ciphertext, private_key)\n",
    "\n",
    "# 5. Split using delimiter\n",
    "try:\n",
    "    received_msg, received_mac_hex = decrypted_combined.split(DELIMITER)\n",
    "    received_mac = bytes.fromhex(received_mac_hex)\n",
    "\n",
    "    # 6. Verify MAC\n",
    "    is_valid = verify_mac(received_msg.encode(), received_mac, mac_key)\n",
    "\n",
    "    print(\"Decrypted Message:\", received_msg)\n",
    "    print(\"MAC valid?\", is_valid)\n",
    "except ValueError:\n",
    "    print(\"Decryption failed: Delimiter not found or corrupted message\")\n"
   ]
  },
  {
   "cell_type": "code",
   "execution_count": 3,
   "id": "0f740a15-f44f-4974-a023-67f12358c09c",
   "metadata": {},
   "outputs": [
    {
     "name": "stdout",
     "output_type": "stream",
     "text": [
      "Signature (hex): 59a33c70e491d9893b3afeccddeed8564a3117d2fb5c6fac72c0aa7d7d95a8a6480cbcea05dbb6e398344f874d208f8aca23edb11cc49abd\n",
      "Signature valid? True\n",
      "Signature valid on tampered message? False\n"
     ]
    }
   ],
   "source": [
    "### Scenario 2: DSA Simulation ###\n",
    "from dsa_utils import generate_dsa_keypair, sign_message, verify_signature \n",
    "\n",
    "# Generate DSA Key Pair\n",
    "private_key, public_key = generate_dsa_keypair()\n",
    "\n",
    "# Message to Sign \n",
    "message = \"Verify my identity via digital signature.\"\n",
    "\n",
    "# Sender: Sign the message\n",
    "signature = sign_message(message, private_key)\n",
    "print(\"Signature (hex):\", signature.hex())\n",
    "\n",
    "# Receiver: Verify the signature\n",
    "valid = verify_signature(message, signature, public_key)\n",
    "print(\"Signature valid?\", valid)\n",
    "\n",
    "# Tampering check\n",
    "invalid = verify_signature(\"Modified message\", signature, public_key)\n",
    "print(\"Signature valid on tampered message?\", invalid)"
   ]
  }
 ],
 "metadata": {
  "kernelspec": {
   "display_name": "Python 3 (ipykernel)",
   "language": "python",
   "name": "python3"
  },
  "language_info": {
   "codemirror_mode": {
    "name": "ipython",
    "version": 3
   },
   "file_extension": ".py",
   "mimetype": "text/x-python",
   "name": "python",
   "nbconvert_exporter": "python",
   "pygments_lexer": "ipython3",
   "version": "3.12.1"
  }
 },
 "nbformat": 4,
 "nbformat_minor": 5
}
